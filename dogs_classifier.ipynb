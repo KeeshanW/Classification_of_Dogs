{
 "metadata": {
  "language_info": {
   "codemirror_mode": {
    "name": "ipython",
    "version": 3
   },
   "file_extension": ".py",
   "mimetype": "text/x-python",
   "name": "python",
   "nbconvert_exporter": "python",
   "pygments_lexer": "ipython3",
   "version": "3.7.7-final"
  },
  "orig_nbformat": 2,
  "kernelspec": {
   "name": "python3",
   "display_name": "Python 3"
  }
 },
 "nbformat": 4,
 "nbformat_minor": 2,
 "cells": [
  {
   "cell_type": "code",
   "execution_count": 9,
   "metadata": {},
   "outputs": [],
   "source": [
    "import numpy as np\n",
    "import pandas as pd\n",
    "import matplotlib.pyplot as plt\n",
    "import tensorflow as tf\n",
    "from tensorflow.keras import Sequential\n",
    "from tensorflow.keras.layers import Activation, Dense, Flatten, Dropout\n",
    "from tensorflow.keras.preprocessing.image import ImageDataGenerator\n",
    "# from keras.layers.normalization import BatchNormalization\n",
    "# from keras.layers.convolutional import *\n",
    "# from keras.optimizers import Adam\n",
    "from tensorflow.keras.models import Model\n",
    "#from sklearn.metrics import confusion_matrix\n",
    "import itertools\n",
    "#import imutils\n",
    "import scipy.io\n",
    "\n"
   ]
  },
  {
   "cell_type": "code",
   "execution_count": 10,
   "metadata": {},
   "outputs": [],
   "source": [
    "test_data = scipy.io.loadmat('test_data.mat')\n",
    "train_data = scipy.io.loadmat('train_data.mat')\n",
    "train_list = scipy.io.loadmat('lists/train_list.mat')\n",
    "test_list = scipy.io.loadmat('lists/test_list.mat')\n",
    "file_list = scipy.io.loadmat('lists/file_list.mat')"
   ]
  },
  {
   "cell_type": "code",
   "execution_count": 4,
   "metadata": {},
   "outputs": [
    {
     "output_type": "execute_result",
     "data": {
      "text/plain": [
       "array([[array(['n02085620-Chihuahua/n02085620_5927'], dtype='<U34')],\n",
       "       [array(['n02085620-Chihuahua/n02085620_4441'], dtype='<U34')],\n",
       "       [array(['n02085620-Chihuahua/n02085620_1502'], dtype='<U34')],\n",
       "       ...,\n",
       "       [array(['n02116738-African_hunting_dog/n02116738_6754'], dtype='<U44')],\n",
       "       [array(['n02116738-African_hunting_dog/n02116738_9333'], dtype='<U44')],\n",
       "       [array(['n02116738-African_hunting_dog/n02116738_2503'], dtype='<U44')]],\n",
       "      dtype=object)"
      ]
     },
     "metadata": {},
     "execution_count": 4
    }
   ],
   "source": [
    "train_list['annotation_list']"
   ]
  },
  {
   "cell_type": "code",
   "execution_count": 5,
   "metadata": {},
   "outputs": [
    {
     "output_type": "execute_result",
     "data": {
      "text/plain": [
       "dict_keys(['__header__', '__version__', '__globals__', 'file_list', 'annotation_list', 'labels'])"
      ]
     },
     "metadata": {},
     "execution_count": 5
    }
   ],
   "source": [
    "train_list.keys()"
   ]
  },
  {
   "cell_type": "code",
   "execution_count": 7,
   "metadata": {},
   "outputs": [
    {
     "output_type": "execute_result",
     "data": {
      "text/plain": [
       "dict_keys(['__header__', '__version__', '__globals__', 'test_info', 'test_fg_data', 'test_data'])"
      ]
     },
     "metadata": {},
     "execution_count": 7
    }
   ],
   "source": [
    "test_data.keys()"
   ]
  },
  {
   "cell_type": "code",
   "execution_count": 50,
   "metadata": {},
   "outputs": [],
   "source": [
    "import shutil, os\n",
    "\n",
    "source_dir_1 = 'Images/n02085620-Chihuahua'\n",
    "target_dir_1 = 'Train_images/Chihuahua'\n",
    "target_dir_2 = 'Validate_images/Chihuahua'\n",
    "target_dir_3 = 'Test_images/Chihuahua'\n",
    "    \n",
    "file_names = os.listdir(source_dir_1)\n",
    "\n",
    "train =int(0.7*len(file_names))\n",
    "validate = int(0.2*len(file_names))\n",
    "test = len(file_names) - train - validate\n",
    "\n",
    "for i  in range(len(file_names)):\n",
    "    if i <= train-1:\n",
    "        srcname = os.path.join(source_dir_1, file_names[i])\n",
    "        dstname = os.path.join(target_dir_1, file_names[i])\n",
    "        shutil.copy2(srcname, dstname)\n",
    "    if i> train and i<= train+validate-1:\n",
    "        srcname = os.path.join(source_dir_1, file_names[i])\n",
    "        dstname = os.path.join(target_dir_2, file_names[i])\n",
    "        shutil.copy2(srcname, dstname)\n",
    "    elif i> train+validate:\n",
    "        srcname = os.path.join(source_dir_1, file_names[i])\n",
    "        dstname = os.path.join(target_dir_3, file_names[i])\n",
    "        shutil.copy2(srcname, dstname)"
   ]
  },
  {
   "cell_type": "code",
   "execution_count": 103,
   "metadata": {},
   "outputs": [],
   "source": [
    "source_dir_JS = 'Images/n02085782-Japanese_spaniel'\n",
    "target_JS_1 = 'Train_images/Japanese Spaniel'\n",
    "target_JS_2 = 'Validate_images/Japanese Spaniel'\n",
    "target_JS_3 = 'Test_images/Japanese Spaniel'\n",
    "    \n",
    "file_names = os.listdir(source_dir_JS)\n",
    "\n",
    "train =int(0.7*len(file_names))\n",
    "validate = int(0.2*len(file_names))\n",
    "test = len(file_names) - train - validate\n",
    "\n",
    "for i  in range(len(file_names)):\n",
    "    if i <= train:\n",
    "        srcname = os.path.join(source_dir_JS, file_names[i])\n",
    "        dstname = os.path.join(target_JS_1, file_names[i])\n",
    "        shutil.copy2(srcname, dstname)\n",
    "    if i> train and i<= train+validate:\n",
    "        srcname = os.path.join(source_dir_JS, file_names[i])\n",
    "        dstname = os.path.join(target_JS_2, file_names[i])\n",
    "        shutil.copy2(srcname, dstname)\n",
    "    elif i> train+validate:\n",
    "        srcname = os.path.join(source_dir_JS, file_names[i])\n",
    "        dstname = os.path.join(target_JS_3, file_names[i])\n",
    "        shutil.copy2(srcname, dstname)"
   ]
  },
  {
   "cell_type": "code",
   "execution_count": 104,
   "metadata": {},
   "outputs": [],
   "source": [
    "source_dir_MD = 'Images/n02085936-Maltese_dog'\n",
    "target_MD_1 = 'Train_images/Maltese Dog'\n",
    "target_MD_2 = 'Validate_images/Maltese Dog'\n",
    "target_MD_3 = 'Test_images/Maltese Dog'\n",
    "    \n",
    "file_names = os.listdir(source_dir_MD)\n",
    "\n",
    "train =int(0.7*len(file_names))\n",
    "validate = int(0.2*len(file_names))\n",
    "test = len(file_names) - train - validate\n",
    "\n",
    "for i  in range(len(file_names)):\n",
    "    if i <= train:\n",
    "        srcname = os.path.join(source_dir_MD, file_names[i])\n",
    "        dstname = os.path.join(target_MD_1, file_names[i])\n",
    "        shutil.copy2(srcname, dstname)\n",
    "    if i> train and i<= train+validate:\n",
    "        srcname = os.path.join(source_dir_MD, file_names[i])\n",
    "        dstname = os.path.join(target_MD_2, file_names[i])\n",
    "        shutil.copy2(srcname, dstname)\n",
    "    elif i> train+validate:\n",
    "        srcname = os.path.join(source_dir_MD, file_names[i])\n",
    "        dstname = os.path.join(target_MD_3, file_names[i])\n",
    "        shutil.copy2(srcname, dstname)"
   ]
  },
  {
   "cell_type": "code",
   "execution_count": 105,
   "metadata": {},
   "outputs": [
    {
     "output_type": "stream",
     "name": "stdout",
     "text": [
      "176 177\n50 50\n26 25\n"
     ]
    }
   ],
   "source": [
    "print(train, len(os.listdir(target_MD_1)))\n",
    "print(validate, len(os.listdir(target_MD_2)))\n",
    "print(test, len(os.listdir(target_MD_3)))"
   ]
  },
  {
   "cell_type": "code",
   "execution_count": 106,
   "metadata": {},
   "outputs": [],
   "source": [
    "train_path = '/Users/keeshanwilliams/OneDrive - CUNY/My Stuff/Galvenize/DSI/Capstone Projects/Classifictaion_of_Dogs/Train_images'\n",
    "valid_path = '/Users/keeshanwilliams/OneDrive - CUNY/My Stuff/Galvenize/DSI/Capstone Projects/Classifictaion_of_Dogs/Validate_images'\n",
    "test_path = '/Users/keeshanwilliams/OneDrive - CUNY/My Stuff/Galvenize/DSI/Capstone Projects/Classifictaion_of_Dogs/Test_images'\n",
    "\n",
    "# '/Users/keeshanwilliams/OneDrive - CUNY/My Stuff/Galvenize/DSI/Capstone Projects/Classifictaion_of_Dogs/Train_images/Chihuahua'"
   ]
  },
  {
   "cell_type": "code",
   "execution_count": 107,
   "metadata": {},
   "outputs": [
    {
     "output_type": "stream",
     "name": "stdout",
     "text": [
      "Found 413 images belonging to 3 classes.\nFound 116 images belonging to 3 classes.\nFound 58 images belonging to 3 classes.\n"
     ]
    }
   ],
   "source": [
    "train_batches = ImageDataGenerator().flow_from_directory(train_path, target_size=(224, 224), classes=['Chihuahua','Japanese Spaniel','Maltese Dog'], batch_size=6)\n",
    "valid_batches = ImageDataGenerator().flow_from_directory(valid_path, target_size=(224, 224), classes=['Chihuahua','Japanese Spaniel','Maltese Dog'], batch_size=6)\n",
    "test_batches = ImageDataGenerator().flow_from_directory(test_path, target_size=(224, 224), classes=['Chihuahua','Japanese Spaniel','Maltese Dog'], batch_size=6)"
   ]
  },
  {
   "cell_type": "code",
   "execution_count": 108,
   "metadata": {},
   "outputs": [],
   "source": [
    "imgs, labels = next(train_batches)"
   ]
  },
  {
   "cell_type": "code",
   "execution_count": 117,
   "metadata": {},
   "outputs": [
    {
     "output_type": "execute_result",
     "data": {
      "text/plain": [
       "6"
      ]
     },
     "metadata": {},
     "execution_count": 117
    }
   ],
   "source": [
    "len(labels)"
   ]
  },
  {
   "cell_type": "code",
   "execution_count": 118,
   "metadata": {},
   "outputs": [
    {
     "output_type": "stream",
     "name": "stderr",
     "text": [
      "Clipping input data to the valid range for imshow with RGB data ([0..1] for floats or [0..255] for integers).\n",
      "Clipping input data to the valid range for imshow with RGB data ([0..1] for floats or [0..255] for integers).\n",
      "Clipping input data to the valid range for imshow with RGB data ([0..1] for floats or [0..255] for integers).\n",
      "Clipping input data to the valid range for imshow with RGB data ([0..1] for floats or [0..255] for integers).\n",
      "Clipping input data to the valid range for imshow with RGB data ([0..1] for floats or [0..255] for integers).\n",
      "Clipping input data to the valid range for imshow with RGB data ([0..1] for floats or [0..255] for integers).\n"
     ]
    },
    {
     "output_type": "display_data",
     "data": {
      "text/plain": "<Figure size 864x1152 with 6 Axes>",
      "image/svg+xml": "<?xml version=\"1.0\" encoding=\"utf-8\" standalone=\"no\"?>\n<!DOCTYPE svg PUBLIC \"-//W3C//DTD SVG 1.1//EN\"\n  \"http://www.w3.org/Graphics/SVG/1.1/DTD/svg11.dtd\">\n<!-- Created with matplotlib (https://matplotlib.org/) -->\n<svg height=\"141.853393pt\" version=\"1.1\" viewBox=\"0 0 710.0875 141.853393\" width=\"710.0875pt\" xmlns=\"http://www.w3.org/2000/svg\" xmlns:xlink=\"http://www.w3.org/1999/xlink\">\n <defs>\n  <style type=\"text/css\">\n*{stroke-linecap:butt;stroke-linejoin:round;}\n  </style>\n </defs>\n <g id=\"figure_1\">\n  <g id=\"patch_1\">\n   <path d=\"M 0 141.853393 \nL 710.0875 141.853393 \nL 710.0875 0 \nL 0 0 \nz\n\" style=\"fill:none;\"/>\n  </g>\n  <g id=\"axes_1\">\n   <g id=\"patch_2\">\n    <path d=\"M 33.2875 117.975268 \nL 128.944643 117.975268 \nL 128.944643 22.318125 \nL 33.2875 22.318125 \nz\n\" style=\"fill:#ffffff;\"/>\n   </g>\n   <g clip-path=\"url(#p5459eebaaa)\">\n    <image height=\"96\" id=\"imagef4c818e0ed\" transform=\"scale(1 -1)translate(0 -96)\" width=\"96\" x=\"33.2875\" xlink:href=\"data:image/png;base64,\niVBORw0KGgoAAAANSUhEUgAAAGAAAABgCAYAAADimHc4AAAABHNCSVQICAgIfAhkiAAABAFJREFUeJztnctqE1EYgL9MNLQa0FpcqE2pF7wsXEifwIVP4EIQ38kn8BF0K1ZBBF0oCkIxtUakaYsomNRLzaXNzLg4Db0k02TsmflPM/8HWXSY5D853/zn3jYXhmGIIoYnXYCsowKEUQHCqABhVIAwKkAYFSCMChBGBQijAoRRAcKMqIAK8AxYli7IQHKjuRgXUKsFNBoepZLbz9iICjg8uP14ZAAVIIwKEEYFCDNSAkIgkC5ETEZKwBrwVboQMXF8GFoHJoBcKtGqhBRY4wykFtfxDGhgGpb/YR7wY72jznt+0zhg3Hg4mAEV4CLOPxuWcPBbTpFWk7PNL6Cz4+cy8DGVyA4KGAdy+MAmaTQEPvCG3eMnD5hMPHI3kpOUafOIIIVhZQ44DzRZ5MnWtavA6cQjg8MCrvONO2ySTzxSDjgHHKfIfOLReqK71wlHUcOMTkqJRVhhiRIziX1+Pw6RgKTY2HoVd1xrAmNkcB5QwXx5m9S3Xv3p8IOXLO65Okf0HGIdaNspGs4JuIh58iwRdGD1IfA3sjo9zjLN7J6rN4iumgo2FzwcE+BhNe1zeTh2GyhRjozYZJo2u2e/xX3KMQG8sFdE7QMWgRXMU30XONL3rgoVpphinDGghZmvHBwVAJhJWMh+GbjAHH+YZpbL5MlF3hcXFTA0X4B3wAXMLHnGyqeqgKHwgQXgEiZLPKKaqriogCFYImSGABKYlzs2CnKTJT6RROVDZjMgxGxgnhry/iZm1GN/h86RDHjM7vX4pAkx4/4dzM+DHzVd6w457e+UOZIB6e79uoQjAg4HLT7QwaPISdjauj8ojjRBjhP6sPCUTnOGDVqY1VM72BnMjjTrEDyH4DPF8VuYhTp7aBM0kLeETLDGWU5ZWv/ZiQroS42QBgEl8piVoq+Y8xq20T6gL5MEHOUjvwBTSUlUPmgG7MMGNtd8oshoBvgw8AREgd7K72D7/HXGBLSAKvAXuBbrndVqlXb7BbBqtUQZa4ICTNPyALgHnBjiPXXgNa3WTQqFAp5n95nNmIAuPoNXN7u/7uGxfUIij+3lkow1QV2GWVoOMAd0u9uP9xncb8QnoxkQhzpmFbR7WNfuZExAwBK29lPTIWR7w94+Ak3QXPohYxEAPzGn39YxzU9y1SSQAd3dJVdpAa+AK8B36Dk1ZxftA3poYv7KypVUoqkAYTI6DHWHzAvwIzfi0yHzAsrlqHPT6aB9gDCZzwBpVIAwKkAYFSCMChBGBQijAoRRAcKoAGFUgDAqQBgVIIwKEEYFCKMChFEBwqgAYVSAMCpAGBUgjAoQRgUIowKEUQHCqABhVIAwKkAYFTCQZZL872QqYCDJCtDT0cJoBgijAoT5B0O1Lytbhk5RAAAAAElFTkSuQmCC\" y=\"-21.975268\"/>\n   </g>\n   <g id=\"matplotlib.axis_1\">\n    <g id=\"xtick_1\">\n     <g id=\"line2d_1\">\n      <defs>\n       <path d=\"M 0 0 \nL 0 3.5 \n\" id=\"m815a31c3ab\" style=\"stroke:#000000;stroke-width:0.8;\"/>\n      </defs>\n      <g>\n       <use style=\"stroke:#000000;stroke-width:0.8;\" x=\"33.50102\" xlink:href=\"#m815a31c3ab\" y=\"117.975268\"/>\n      </g>\n     </g>\n     <g id=\"text_1\">\n      <!-- 0 -->\n      <defs>\n       <path d=\"M 31.78125 66.40625 \nQ 24.171875 66.40625 20.328125 58.90625 \nQ 16.5 51.421875 16.5 36.375 \nQ 16.5 21.390625 20.328125 13.890625 \nQ 24.171875 6.390625 31.78125 6.390625 \nQ 39.453125 6.390625 43.28125 13.890625 \nQ 47.125 21.390625 47.125 36.375 \nQ 47.125 51.421875 43.28125 58.90625 \nQ 39.453125 66.40625 31.78125 66.40625 \nz\nM 31.78125 74.21875 \nQ 44.046875 74.21875 50.515625 64.515625 \nQ 56.984375 54.828125 56.984375 36.375 \nQ 56.984375 17.96875 50.515625 8.265625 \nQ 44.046875 -1.421875 31.78125 -1.421875 \nQ 19.53125 -1.421875 13.0625 8.265625 \nQ 6.59375 17.96875 6.59375 36.375 \nQ 6.59375 54.828125 13.0625 64.515625 \nQ 19.53125 74.21875 31.78125 74.21875 \nz\n\" id=\"DejaVuSans-48\"/>\n      </defs>\n      <g transform=\"translate(30.31977 132.573705)scale(0.1 -0.1)\">\n       <use xlink:href=\"#DejaVuSans-48\"/>\n      </g>\n     </g>\n    </g>\n    <g id=\"xtick_2\">\n     <g id=\"line2d_2\">\n      <g>\n       <use style=\"stroke:#000000;stroke-width:0.8;\" x=\"76.205102\" xlink:href=\"#m815a31c3ab\" y=\"117.975268\"/>\n      </g>\n     </g>\n     <g id=\"text_2\">\n      <!-- 100 -->\n      <defs>\n       <path d=\"M 12.40625 8.296875 \nL 28.515625 8.296875 \nL 28.515625 63.921875 \nL 10.984375 60.40625 \nL 10.984375 69.390625 \nL 28.421875 72.90625 \nL 38.28125 72.90625 \nL 38.28125 8.296875 \nL 54.390625 8.296875 \nL 54.390625 0 \nL 12.40625 0 \nz\n\" id=\"DejaVuSans-49\"/>\n      </defs>\n      <g transform=\"translate(66.661352 132.573705)scale(0.1 -0.1)\">\n       <use xlink:href=\"#DejaVuSans-49\"/>\n       <use x=\"63.623047\" xlink:href=\"#DejaVuSans-48\"/>\n       <use x=\"127.246094\" xlink:href=\"#DejaVuSans-48\"/>\n      </g>\n     </g>\n    </g>\n    <g id=\"xtick_3\">\n     <g id=\"line2d_3\">\n      <g>\n       <use style=\"stroke:#000000;stroke-width:0.8;\" x=\"118.909184\" xlink:href=\"#m815a31c3ab\" y=\"117.975268\"/>\n      </g>\n     </g>\n     <g id=\"text_3\">\n      <!-- 200 -->\n      <defs>\n       <path d=\"M 19.1875 8.296875 \nL 53.609375 8.296875 \nL 53.609375 0 \nL 7.328125 0 \nL 7.328125 8.296875 \nQ 12.9375 14.109375 22.625 23.890625 \nQ 32.328125 33.6875 34.8125 36.53125 \nQ 39.546875 41.84375 41.421875 45.53125 \nQ 43.3125 49.21875 43.3125 52.78125 \nQ 43.3125 58.59375 39.234375 62.25 \nQ 35.15625 65.921875 28.609375 65.921875 \nQ 23.96875 65.921875 18.8125 64.3125 \nQ 13.671875 62.703125 7.8125 59.421875 \nL 7.8125 69.390625 \nQ 13.765625 71.78125 18.9375 73 \nQ 24.125 74.21875 28.421875 74.21875 \nQ 39.75 74.21875 46.484375 68.546875 \nQ 53.21875 62.890625 53.21875 53.421875 \nQ 53.21875 48.921875 51.53125 44.890625 \nQ 49.859375 40.875 45.40625 35.40625 \nQ 44.1875 33.984375 37.640625 27.21875 \nQ 31.109375 20.453125 19.1875 8.296875 \nz\n\" id=\"DejaVuSans-50\"/>\n      </defs>\n      <g transform=\"translate(109.365434 132.573705)scale(0.1 -0.1)\">\n       <use xlink:href=\"#DejaVuSans-50\"/>\n       <use x=\"63.623047\" xlink:href=\"#DejaVuSans-48\"/>\n       <use x=\"127.246094\" xlink:href=\"#DejaVuSans-48\"/>\n      </g>\n     </g>\n    </g>\n   </g>\n   <g id=\"matplotlib.axis_2\">\n    <g id=\"ytick_1\">\n     <g id=\"line2d_4\">\n      <defs>\n       <path d=\"M 0 0 \nL -3.5 0 \n\" id=\"m0fa5a2180a\" style=\"stroke:#000000;stroke-width:0.8;\"/>\n      </defs>\n      <g>\n       <use style=\"stroke:#000000;stroke-width:0.8;\" x=\"33.2875\" xlink:href=\"#m0fa5a2180a\" y=\"22.531645\"/>\n      </g>\n     </g>\n     <g id=\"text_4\">\n      <!-- 0 -->\n      <g transform=\"translate(19.925 26.330864)scale(0.1 -0.1)\">\n       <use xlink:href=\"#DejaVuSans-48\"/>\n      </g>\n     </g>\n    </g>\n    <g id=\"ytick_2\">\n     <g id=\"line2d_5\">\n      <g>\n       <use style=\"stroke:#000000;stroke-width:0.8;\" x=\"33.2875\" xlink:href=\"#m0fa5a2180a\" y=\"65.235727\"/>\n      </g>\n     </g>\n     <g id=\"text_5\">\n      <!-- 100 -->\n      <g transform=\"translate(7.2 69.034946)scale(0.1 -0.1)\">\n       <use xlink:href=\"#DejaVuSans-49\"/>\n       <use x=\"63.623047\" xlink:href=\"#DejaVuSans-48\"/>\n       <use x=\"127.246094\" xlink:href=\"#DejaVuSans-48\"/>\n      </g>\n     </g>\n    </g>\n    <g id=\"ytick_3\">\n     <g id=\"line2d_6\">\n      <g>\n       <use style=\"stroke:#000000;stroke-width:0.8;\" x=\"33.2875\" xlink:href=\"#m0fa5a2180a\" y=\"107.939809\"/>\n      </g>\n     </g>\n     <g id=\"text_6\">\n      <!-- 200 -->\n      <g transform=\"translate(7.2 111.739027)scale(0.1 -0.1)\">\n       <use xlink:href=\"#DejaVuSans-50\"/>\n       <use x=\"63.623047\" xlink:href=\"#DejaVuSans-48\"/>\n       <use x=\"127.246094\" xlink:href=\"#DejaVuSans-48\"/>\n      </g>\n     </g>\n    </g>\n   </g>\n   <g id=\"patch_3\">\n    <path d=\"M 33.2875 117.975268 \nL 33.2875 22.318125 \n\" style=\"fill:none;stroke:#000000;stroke-linecap:square;stroke-linejoin:miter;stroke-width:0.8;\"/>\n   </g>\n   <g id=\"patch_4\">\n    <path d=\"M 128.944643 117.975268 \nL 128.944643 22.318125 \n\" style=\"fill:none;stroke:#000000;stroke-linecap:square;stroke-linejoin:miter;stroke-width:0.8;\"/>\n   </g>\n   <g id=\"patch_5\">\n    <path d=\"M 33.2875 117.975268 \nL 128.944643 117.975268 \n\" style=\"fill:none;stroke:#000000;stroke-linecap:square;stroke-linejoin:miter;stroke-width:0.8;\"/>\n   </g>\n   <g id=\"patch_6\">\n    <path d=\"M 33.2875 22.318125 \nL 128.944643 22.318125 \n\" style=\"fill:none;stroke:#000000;stroke-linecap:square;stroke-linejoin:miter;stroke-width:0.8;\"/>\n   </g>\n   <g id=\"text_7\">\n    <!-- [0. 0. 1.] -->\n    <defs>\n     <path d=\"M 8.59375 75.984375 \nL 29.296875 75.984375 \nL 29.296875 69 \nL 17.578125 69 \nL 17.578125 -6.203125 \nL 29.296875 -6.203125 \nL 29.296875 -13.1875 \nL 8.59375 -13.1875 \nz\n\" id=\"DejaVuSans-91\"/>\n     <path d=\"M 10.6875 12.40625 \nL 21 12.40625 \nL 21 0 \nL 10.6875 0 \nz\n\" id=\"DejaVuSans-46\"/>\n     <path id=\"DejaVuSans-32\"/>\n     <path d=\"M 30.421875 75.984375 \nL 30.421875 -13.1875 \nL 9.71875 -13.1875 \nL 9.71875 -6.203125 \nL 21.390625 -6.203125 \nL 21.390625 69 \nL 9.71875 69 \nL 9.71875 75.984375 \nz\n\" id=\"DejaVuSans-93\"/>\n    </defs>\n    <g transform=\"translate(55.447321 16.318125)scale(0.12 -0.12)\">\n     <use xlink:href=\"#DejaVuSans-91\"/>\n     <use x=\"39.013672\" xlink:href=\"#DejaVuSans-48\"/>\n     <use x=\"102.636719\" xlink:href=\"#DejaVuSans-46\"/>\n     <use x=\"134.423828\" xlink:href=\"#DejaVuSans-32\"/>\n     <use x=\"166.210938\" xlink:href=\"#DejaVuSans-48\"/>\n     <use x=\"229.833984\" xlink:href=\"#DejaVuSans-46\"/>\n     <use x=\"261.621094\" xlink:href=\"#DejaVuSans-32\"/>\n     <use x=\"293.408203\" xlink:href=\"#DejaVuSans-49\"/>\n     <use x=\"357.03125\" xlink:href=\"#DejaVuSans-46\"/>\n     <use x=\"388.818359\" xlink:href=\"#DejaVuSans-93\"/>\n    </g>\n   </g>\n  </g>\n  <g id=\"axes_2\">\n   <g id=\"patch_7\">\n    <path d=\"M 148.076071 117.975268 \nL 243.733214 117.975268 \nL 243.733214 22.318125 \nL 148.076071 22.318125 \nz\n\" style=\"fill:#ffffff;\"/>\n   </g>\n   <g clip-path=\"url(#pe6e5637b44)\">\n    <image height=\"96\" id=\"imagef00f00d41b\" transform=\"scale(1 -1)translate(0 -96)\" width=\"96\" x=\"148.076071\" xlink:href=\"data:image/png;base64,\niVBORw0KGgoAAAANSUhEUgAAAGAAAABgCAYAAADimHc4AAAABHNCSVQICAgIfAhkiAAAAOpJREFUeJzt0UENwDAAxLB1/DlfYfjRGEGknG37wvw64HUNwBqANQBrANYArAFYA7AGYA3AGoA1AGsA1gCsAVgDsAZgDcAagDUAawDWAKwBWAOwBmANwBqANQBrANYArAFYA7AGYA3AGoA1AGsA1gCsAVgDsAZgDcAagDUAawDWAKwBWAOwBmANwBqANQBrANYArAFYA7AGYA3AGoA1AGsA1gCsAVgDsAZgDcAagDUAawDWAKwBWAOwBmANwBqANQBrANYArAFYA7AGYA3AGoA1AGsA1gCsAVgDsAZgDcAagDUAawDWAKwB2AUN1AS8y1VfTAAAAABJRU5ErkJggg==\" y=\"-21.975268\"/>\n   </g>\n   <g id=\"matplotlib.axis_3\">\n    <g id=\"xtick_4\">\n     <g id=\"line2d_7\">\n      <g>\n       <use style=\"stroke:#000000;stroke-width:0.8;\" x=\"148.289592\" xlink:href=\"#m815a31c3ab\" y=\"117.975268\"/>\n      </g>\n     </g>\n     <g id=\"text_8\">\n      <!-- 0 -->\n      <g transform=\"translate(145.108342 132.573705)scale(0.1 -0.1)\">\n       <use xlink:href=\"#DejaVuSans-48\"/>\n      </g>\n     </g>\n    </g>\n    <g id=\"xtick_5\">\n     <g id=\"line2d_8\">\n      <g>\n       <use style=\"stroke:#000000;stroke-width:0.8;\" x=\"190.993673\" xlink:href=\"#m815a31c3ab\" y=\"117.975268\"/>\n      </g>\n     </g>\n     <g id=\"text_9\">\n      <!-- 100 -->\n      <g transform=\"translate(181.449923 132.573705)scale(0.1 -0.1)\">\n       <use xlink:href=\"#DejaVuSans-49\"/>\n       <use x=\"63.623047\" xlink:href=\"#DejaVuSans-48\"/>\n       <use x=\"127.246094\" xlink:href=\"#DejaVuSans-48\"/>\n      </g>\n     </g>\n    </g>\n    <g id=\"xtick_6\">\n     <g id=\"line2d_9\">\n      <g>\n       <use style=\"stroke:#000000;stroke-width:0.8;\" x=\"233.697755\" xlink:href=\"#m815a31c3ab\" y=\"117.975268\"/>\n      </g>\n     </g>\n     <g id=\"text_10\">\n      <!-- 200 -->\n      <g transform=\"translate(224.154005 132.573705)scale(0.1 -0.1)\">\n       <use xlink:href=\"#DejaVuSans-50\"/>\n       <use x=\"63.623047\" xlink:href=\"#DejaVuSans-48\"/>\n       <use x=\"127.246094\" xlink:href=\"#DejaVuSans-48\"/>\n      </g>\n     </g>\n    </g>\n   </g>\n   <g id=\"matplotlib.axis_4\">\n    <g id=\"ytick_4\">\n     <g id=\"line2d_10\">\n      <g>\n       <use style=\"stroke:#000000;stroke-width:0.8;\" x=\"148.076071\" xlink:href=\"#m0fa5a2180a\" y=\"22.531645\"/>\n      </g>\n     </g>\n     <g id=\"text_11\">\n      <!-- 0 -->\n      <g transform=\"translate(134.713571 26.330864)scale(0.1 -0.1)\">\n       <use xlink:href=\"#DejaVuSans-48\"/>\n      </g>\n     </g>\n    </g>\n    <g id=\"ytick_5\">\n     <g id=\"line2d_11\">\n      <g>\n       <use style=\"stroke:#000000;stroke-width:0.8;\" x=\"148.076071\" xlink:href=\"#m0fa5a2180a\" y=\"65.235727\"/>\n      </g>\n     </g>\n     <g id=\"text_12\">\n      <!-- 100 -->\n      <g transform=\"translate(121.988571 69.034946)scale(0.1 -0.1)\">\n       <use xlink:href=\"#DejaVuSans-49\"/>\n       <use x=\"63.623047\" xlink:href=\"#DejaVuSans-48\"/>\n       <use x=\"127.246094\" xlink:href=\"#DejaVuSans-48\"/>\n      </g>\n     </g>\n    </g>\n    <g id=\"ytick_6\">\n     <g id=\"line2d_12\">\n      <g>\n       <use style=\"stroke:#000000;stroke-width:0.8;\" x=\"148.076071\" xlink:href=\"#m0fa5a2180a\" y=\"107.939809\"/>\n      </g>\n     </g>\n     <g id=\"text_13\">\n      <!-- 200 -->\n      <g transform=\"translate(121.988571 111.739027)scale(0.1 -0.1)\">\n       <use xlink:href=\"#DejaVuSans-50\"/>\n       <use x=\"63.623047\" xlink:href=\"#DejaVuSans-48\"/>\n       <use x=\"127.246094\" xlink:href=\"#DejaVuSans-48\"/>\n      </g>\n     </g>\n    </g>\n   </g>\n   <g id=\"patch_8\">\n    <path d=\"M 148.076071 117.975268 \nL 148.076071 22.318125 \n\" style=\"fill:none;stroke:#000000;stroke-linecap:square;stroke-linejoin:miter;stroke-width:0.8;\"/>\n   </g>\n   <g id=\"patch_9\">\n    <path d=\"M 243.733214 117.975268 \nL 243.733214 22.318125 \n\" style=\"fill:none;stroke:#000000;stroke-linecap:square;stroke-linejoin:miter;stroke-width:0.8;\"/>\n   </g>\n   <g id=\"patch_10\">\n    <path d=\"M 148.076071 117.975268 \nL 243.733214 117.975268 \n\" style=\"fill:none;stroke:#000000;stroke-linecap:square;stroke-linejoin:miter;stroke-width:0.8;\"/>\n   </g>\n   <g id=\"patch_11\">\n    <path d=\"M 148.076071 22.318125 \nL 243.733214 22.318125 \n\" style=\"fill:none;stroke:#000000;stroke-linecap:square;stroke-linejoin:miter;stroke-width:0.8;\"/>\n   </g>\n   <g id=\"text_14\">\n    <!-- [1. 0. 0.] -->\n    <g transform=\"translate(170.235893 16.318125)scale(0.12 -0.12)\">\n     <use xlink:href=\"#DejaVuSans-91\"/>\n     <use x=\"39.013672\" xlink:href=\"#DejaVuSans-49\"/>\n     <use x=\"102.636719\" xlink:href=\"#DejaVuSans-46\"/>\n     <use x=\"134.423828\" xlink:href=\"#DejaVuSans-32\"/>\n     <use x=\"166.210938\" xlink:href=\"#DejaVuSans-48\"/>\n     <use x=\"229.833984\" xlink:href=\"#DejaVuSans-46\"/>\n     <use x=\"261.621094\" xlink:href=\"#DejaVuSans-32\"/>\n     <use x=\"293.408203\" xlink:href=\"#DejaVuSans-48\"/>\n     <use x=\"357.03125\" xlink:href=\"#DejaVuSans-46\"/>\n     <use x=\"388.818359\" xlink:href=\"#DejaVuSans-93\"/>\n    </g>\n   </g>\n  </g>\n  <g id=\"axes_3\">\n   <g id=\"patch_12\">\n    <path d=\"M 262.864643 117.975268 \nL 358.521786 117.975268 \nL 358.521786 22.318125 \nL 262.864643 22.318125 \nz\n\" style=\"fill:#ffffff;\"/>\n   </g>\n   <g clip-path=\"url(#p65e23d4235)\">\n    <image height=\"96\" id=\"imaged29cb1a566\" transform=\"scale(1 -1)translate(0 -96)\" width=\"96\" x=\"262.864643\" xlink:href=\"data:image/png;base64,\niVBORw0KGgoAAAANSUhEUgAAAGAAAABgCAYAAADimHc4AAAABHNCSVQICAgIfAhkiAAAAl5JREFUeJzt289r02Acx/F3uxpW6WG4w2RjNw9ehPn//wsedhHUsUNbZGUjgyLYNeSHh6cyFWVgEz/5xs/r0kIgeci7T34tGzVN02AyY/UA/ncOIOYAYg4g5gBiDiDmAGIOIOYAYg4g5gBi3QZYr6EsO91EdN0G2GygrjvdRHTdBjg6gpubTjcR3ajTx9F1DUUBh4edbSK6bgPYk3wVJOYAYg4g5gBiDiDmAMsl5Lls874MFfMMEHMAMQcQcwAxBxBzADEHEHMAMQcQcwAxBxBzADEHEGs/QFHAatX6aoeq/QDjMUynra92qPz3ADGfA8QcQMwBxBxAzAHEHEAsboAFUKkHsb+4AabAB/Ug9hf/Ruw98Bo4UA/k78QI0ABfgBJ48cuyijSPR/96UO2IcQj6CFwBGTCfw3b7uOyAsDsfIgSogK/AW2AGnJzA1bNBnIAhQoBxA2+qNNLLy/QPf+Vu2HUNeQNL6Qj30v8AdQ2fdpc7Fxfp81UJVQHX1/D8Ac6BObD900r6K8ZJ+LscOAbereF0A6cvH5c9kM4R/f9J/aT/Ae7vIctgNkuHmnP1gNrV/99LlsFkkr4PbOdDhBkwcP2fAQPnAGIOIOYAYg4g5gBiIQPc3eUsFoEfAP0gZIDb22POznZ3ZWsg8Kuo8W/ESqAmPQcKKMYMWK3SW9e/MyHszocIAWrg8zS9dT1A/T8ENaRHzQN9473/AQZumPM6EAcQcwAxBxBzADEHEHMAMQcQcwAxBxBzADEHEHMAMQcQcwAxBxBzADEHEHMAMQcQcwAxBxBzADEHEHMAsW/asIwDECcAaQAAAABJRU5ErkJggg==\" y=\"-21.975268\"/>\n   </g>\n   <g id=\"matplotlib.axis_5\">\n    <g id=\"xtick_7\">\n     <g id=\"line2d_13\">\n      <g>\n       <use style=\"stroke:#000000;stroke-width:0.8;\" x=\"263.078163\" xlink:href=\"#m815a31c3ab\" y=\"117.975268\"/>\n      </g>\n     </g>\n     <g id=\"text_15\">\n      <!-- 0 -->\n      <g transform=\"translate(259.896913 132.573705)scale(0.1 -0.1)\">\n       <use xlink:href=\"#DejaVuSans-48\"/>\n      </g>\n     </g>\n    </g>\n    <g id=\"xtick_8\">\n     <g id=\"line2d_14\">\n      <g>\n       <use style=\"stroke:#000000;stroke-width:0.8;\" x=\"305.782245\" xlink:href=\"#m815a31c3ab\" y=\"117.975268\"/>\n      </g>\n     </g>\n     <g id=\"text_16\">\n      <!-- 100 -->\n      <g transform=\"translate(296.238495 132.573705)scale(0.1 -0.1)\">\n       <use xlink:href=\"#DejaVuSans-49\"/>\n       <use x=\"63.623047\" xlink:href=\"#DejaVuSans-48\"/>\n       <use x=\"127.246094\" xlink:href=\"#DejaVuSans-48\"/>\n      </g>\n     </g>\n    </g>\n    <g id=\"xtick_9\">\n     <g id=\"line2d_15\">\n      <g>\n       <use style=\"stroke:#000000;stroke-width:0.8;\" x=\"348.486327\" xlink:href=\"#m815a31c3ab\" y=\"117.975268\"/>\n      </g>\n     </g>\n     <g id=\"text_17\">\n      <!-- 200 -->\n      <g transform=\"translate(338.942577 132.573705)scale(0.1 -0.1)\">\n       <use xlink:href=\"#DejaVuSans-50\"/>\n       <use x=\"63.623047\" xlink:href=\"#DejaVuSans-48\"/>\n       <use x=\"127.246094\" xlink:href=\"#DejaVuSans-48\"/>\n      </g>\n     </g>\n    </g>\n   </g>\n   <g id=\"matplotlib.axis_6\">\n    <g id=\"ytick_7\">\n     <g id=\"line2d_16\">\n      <g>\n       <use style=\"stroke:#000000;stroke-width:0.8;\" x=\"262.864643\" xlink:href=\"#m0fa5a2180a\" y=\"22.531645\"/>\n      </g>\n     </g>\n     <g id=\"text_18\">\n      <!-- 0 -->\n      <g transform=\"translate(249.502143 26.330864)scale(0.1 -0.1)\">\n       <use xlink:href=\"#DejaVuSans-48\"/>\n      </g>\n     </g>\n    </g>\n    <g id=\"ytick_8\">\n     <g id=\"line2d_17\">\n      <g>\n       <use style=\"stroke:#000000;stroke-width:0.8;\" x=\"262.864643\" xlink:href=\"#m0fa5a2180a\" y=\"65.235727\"/>\n      </g>\n     </g>\n     <g id=\"text_19\">\n      <!-- 100 -->\n      <g transform=\"translate(236.777143 69.034946)scale(0.1 -0.1)\">\n       <use xlink:href=\"#DejaVuSans-49\"/>\n       <use x=\"63.623047\" xlink:href=\"#DejaVuSans-48\"/>\n       <use x=\"127.246094\" xlink:href=\"#DejaVuSans-48\"/>\n      </g>\n     </g>\n    </g>\n    <g id=\"ytick_9\">\n     <g id=\"line2d_18\">\n      <g>\n       <use style=\"stroke:#000000;stroke-width:0.8;\" x=\"262.864643\" xlink:href=\"#m0fa5a2180a\" y=\"107.939809\"/>\n      </g>\n     </g>\n     <g id=\"text_20\">\n      <!-- 200 -->\n      <g transform=\"translate(236.777143 111.739027)scale(0.1 -0.1)\">\n       <use xlink:href=\"#DejaVuSans-50\"/>\n       <use x=\"63.623047\" xlink:href=\"#DejaVuSans-48\"/>\n       <use x=\"127.246094\" xlink:href=\"#DejaVuSans-48\"/>\n      </g>\n     </g>\n    </g>\n   </g>\n   <g id=\"patch_13\">\n    <path d=\"M 262.864643 117.975268 \nL 262.864643 22.318125 \n\" style=\"fill:none;stroke:#000000;stroke-linecap:square;stroke-linejoin:miter;stroke-width:0.8;\"/>\n   </g>\n   <g id=\"patch_14\">\n    <path d=\"M 358.521786 117.975268 \nL 358.521786 22.318125 \n\" style=\"fill:none;stroke:#000000;stroke-linecap:square;stroke-linejoin:miter;stroke-width:0.8;\"/>\n   </g>\n   <g id=\"patch_15\">\n    <path d=\"M 262.864643 117.975268 \nL 358.521786 117.975268 \n\" style=\"fill:none;stroke:#000000;stroke-linecap:square;stroke-linejoin:miter;stroke-width:0.8;\"/>\n   </g>\n   <g id=\"patch_16\">\n    <path d=\"M 262.864643 22.318125 \nL 358.521786 22.318125 \n\" style=\"fill:none;stroke:#000000;stroke-linecap:square;stroke-linejoin:miter;stroke-width:0.8;\"/>\n   </g>\n   <g id=\"text_21\">\n    <!-- [0. 0. 1.] -->\n    <g transform=\"translate(285.024464 16.318125)scale(0.12 -0.12)\">\n     <use xlink:href=\"#DejaVuSans-91\"/>\n     <use x=\"39.013672\" xlink:href=\"#DejaVuSans-48\"/>\n     <use x=\"102.636719\" xlink:href=\"#DejaVuSans-46\"/>\n     <use x=\"134.423828\" xlink:href=\"#DejaVuSans-32\"/>\n     <use x=\"166.210938\" xlink:href=\"#DejaVuSans-48\"/>\n     <use x=\"229.833984\" xlink:href=\"#DejaVuSans-46\"/>\n     <use x=\"261.621094\" xlink:href=\"#DejaVuSans-32\"/>\n     <use x=\"293.408203\" xlink:href=\"#DejaVuSans-49\"/>\n     <use x=\"357.03125\" xlink:href=\"#DejaVuSans-46\"/>\n     <use x=\"388.818359\" xlink:href=\"#DejaVuSans-93\"/>\n    </g>\n   </g>\n  </g>\n  <g id=\"axes_4\">\n   <g id=\"patch_17\">\n    <path d=\"M 377.653214 117.975268 \nL 473.310357 117.975268 \nL 473.310357 22.318125 \nL 377.653214 22.318125 \nz\n\" style=\"fill:#ffffff;\"/>\n   </g>\n   <g clip-path=\"url(#p1fbacb9512)\">\n    <image height=\"96\" id=\"imagee3ef7367e9\" transform=\"scale(1 -1)translate(0 -96)\" width=\"96\" x=\"377.653214\" xlink:href=\"data:image/png;base64,\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\" y=\"-21.975268\"/>\n   </g>\n   <g id=\"matplotlib.axis_7\">\n    <g id=\"xtick_10\">\n     <g id=\"line2d_19\">\n      <g>\n       <use style=\"stroke:#000000;stroke-width:0.8;\" x=\"377.866735\" xlink:href=\"#m815a31c3ab\" y=\"117.975268\"/>\n      </g>\n     </g>\n     <g id=\"text_22\">\n      <!-- 0 -->\n      <g transform=\"translate(374.685485 132.573705)scale(0.1 -0.1)\">\n       <use xlink:href=\"#DejaVuSans-48\"/>\n      </g>\n     </g>\n    </g>\n    <g id=\"xtick_11\">\n     <g id=\"line2d_20\">\n      <g>\n       <use style=\"stroke:#000000;stroke-width:0.8;\" x=\"420.570816\" xlink:href=\"#m815a31c3ab\" y=\"117.975268\"/>\n      </g>\n     </g>\n     <g id=\"text_23\">\n      <!-- 100 -->\n      <g transform=\"translate(411.027066 132.573705)scale(0.1 -0.1)\">\n       <use xlink:href=\"#DejaVuSans-49\"/>\n       <use x=\"63.623047\" xlink:href=\"#DejaVuSans-48\"/>\n       <use x=\"127.246094\" xlink:href=\"#DejaVuSans-48\"/>\n      </g>\n     </g>\n    </g>\n    <g id=\"xtick_12\">\n     <g id=\"line2d_21\">\n      <g>\n       <use style=\"stroke:#000000;stroke-width:0.8;\" x=\"463.274898\" xlink:href=\"#m815a31c3ab\" y=\"117.975268\"/>\n      </g>\n     </g>\n     <g id=\"text_24\">\n      <!-- 200 -->\n      <g transform=\"translate(453.731148 132.573705)scale(0.1 -0.1)\">\n       <use xlink:href=\"#DejaVuSans-50\"/>\n       <use x=\"63.623047\" xlink:href=\"#DejaVuSans-48\"/>\n       <use x=\"127.246094\" xlink:href=\"#DejaVuSans-48\"/>\n      </g>\n     </g>\n    </g>\n   </g>\n   <g id=\"matplotlib.axis_8\">\n    <g id=\"ytick_10\">\n     <g id=\"line2d_22\">\n      <g>\n       <use style=\"stroke:#000000;stroke-width:0.8;\" x=\"377.653214\" xlink:href=\"#m0fa5a2180a\" y=\"22.531645\"/>\n      </g>\n     </g>\n     <g id=\"text_25\">\n      <!-- 0 -->\n      <g transform=\"translate(364.290714 26.330864)scale(0.1 -0.1)\">\n       <use xlink:href=\"#DejaVuSans-48\"/>\n      </g>\n     </g>\n    </g>\n    <g id=\"ytick_11\">\n     <g id=\"line2d_23\">\n      <g>\n       <use style=\"stroke:#000000;stroke-width:0.8;\" x=\"377.653214\" xlink:href=\"#m0fa5a2180a\" y=\"65.235727\"/>\n      </g>\n     </g>\n     <g id=\"text_26\">\n      <!-- 100 -->\n      <g transform=\"translate(351.565714 69.034946)scale(0.1 -0.1)\">\n       <use xlink:href=\"#DejaVuSans-49\"/>\n       <use x=\"63.623047\" xlink:href=\"#DejaVuSans-48\"/>\n       <use x=\"127.246094\" xlink:href=\"#DejaVuSans-48\"/>\n      </g>\n     </g>\n    </g>\n    <g id=\"ytick_12\">\n     <g id=\"line2d_24\">\n      <g>\n       <use style=\"stroke:#000000;stroke-width:0.8;\" x=\"377.653214\" xlink:href=\"#m0fa5a2180a\" y=\"107.939809\"/>\n      </g>\n     </g>\n     <g id=\"text_27\">\n      <!-- 200 -->\n      <g transform=\"translate(351.565714 111.739027)scale(0.1 -0.1)\">\n       <use xlink:href=\"#DejaVuSans-50\"/>\n       <use x=\"63.623047\" xlink:href=\"#DejaVuSans-48\"/>\n       <use x=\"127.246094\" xlink:href=\"#DejaVuSans-48\"/>\n      </g>\n     </g>\n    </g>\n   </g>\n   <g id=\"patch_18\">\n    <path d=\"M 377.653214 117.975268 \nL 377.653214 22.318125 \n\" style=\"fill:none;stroke:#000000;stroke-linecap:square;stroke-linejoin:miter;stroke-width:0.8;\"/>\n   </g>\n   <g id=\"patch_19\">\n    <path d=\"M 473.310357 117.975268 \nL 473.310357 22.318125 \n\" style=\"fill:none;stroke:#000000;stroke-linecap:square;stroke-linejoin:miter;stroke-width:0.8;\"/>\n   </g>\n   <g id=\"patch_20\">\n    <path d=\"M 377.653214 117.975268 \nL 473.310357 117.975268 \n\" style=\"fill:none;stroke:#000000;stroke-linecap:square;stroke-linejoin:miter;stroke-width:0.8;\"/>\n   </g>\n   <g id=\"patch_21\">\n    <path d=\"M 377.653214 22.318125 \nL 473.310357 22.318125 \n\" style=\"fill:none;stroke:#000000;stroke-linecap:square;stroke-linejoin:miter;stroke-width:0.8;\"/>\n   </g>\n   <g id=\"text_28\">\n    <!-- [1. 0. 0.] -->\n    <g transform=\"translate(399.813036 16.318125)scale(0.12 -0.12)\">\n     <use xlink:href=\"#DejaVuSans-91\"/>\n     <use x=\"39.013672\" xlink:href=\"#DejaVuSans-49\"/>\n     <use x=\"102.636719\" xlink:href=\"#DejaVuSans-46\"/>\n     <use x=\"134.423828\" xlink:href=\"#DejaVuSans-32\"/>\n     <use x=\"166.210938\" xlink:href=\"#DejaVuSans-48\"/>\n     <use x=\"229.833984\" xlink:href=\"#DejaVuSans-46\"/>\n     <use x=\"261.621094\" xlink:href=\"#DejaVuSans-32\"/>\n     <use x=\"293.408203\" xlink:href=\"#DejaVuSans-48\"/>\n     <use x=\"357.03125\" xlink:href=\"#DejaVuSans-46\"/>\n     <use x=\"388.818359\" xlink:href=\"#DejaVuSans-93\"/>\n    </g>\n   </g>\n  </g>\n  <g id=\"axes_5\">\n   <g id=\"patch_22\">\n    <path d=\"M 492.441786 117.975268 \nL 588.098929 117.975268 \nL 588.098929 22.318125 \nL 492.441786 22.318125 \nz\n\" style=\"fill:#ffffff;\"/>\n   </g>\n   <g clip-path=\"url(#p81a900c1e0)\">\n    <image height=\"96\" id=\"imagecf7a185107\" transform=\"scale(1 -1)translate(0 -96)\" width=\"96\" x=\"492.441786\" xlink:href=\"data:image/png;base64,\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\" y=\"-21.975268\"/>\n   </g>\n   <g id=\"matplotlib.axis_9\">\n    <g id=\"xtick_13\">\n     <g id=\"line2d_25\">\n      <g>\n       <use style=\"stroke:#000000;stroke-width:0.8;\" x=\"492.655306\" xlink:href=\"#m815a31c3ab\" y=\"117.975268\"/>\n      </g>\n     </g>\n     <g id=\"text_29\">\n      <!-- 0 -->\n      <g transform=\"translate(489.474056 132.573705)scale(0.1 -0.1)\">\n       <use xlink:href=\"#DejaVuSans-48\"/>\n      </g>\n     </g>\n    </g>\n    <g id=\"xtick_14\">\n     <g id=\"line2d_26\">\n      <g>\n       <use style=\"stroke:#000000;stroke-width:0.8;\" x=\"535.359388\" xlink:href=\"#m815a31c3ab\" y=\"117.975268\"/>\n      </g>\n     </g>\n     <g id=\"text_30\">\n      <!-- 100 -->\n      <g transform=\"translate(525.815638 132.573705)scale(0.1 -0.1)\">\n       <use xlink:href=\"#DejaVuSans-49\"/>\n       <use x=\"63.623047\" xlink:href=\"#DejaVuSans-48\"/>\n       <use x=\"127.246094\" xlink:href=\"#DejaVuSans-48\"/>\n      </g>\n     </g>\n    </g>\n    <g id=\"xtick_15\">\n     <g id=\"line2d_27\">\n      <g>\n       <use style=\"stroke:#000000;stroke-width:0.8;\" x=\"578.063469\" xlink:href=\"#m815a31c3ab\" y=\"117.975268\"/>\n      </g>\n     </g>\n     <g id=\"text_31\">\n      <!-- 200 -->\n      <g transform=\"translate(568.519719 132.573705)scale(0.1 -0.1)\">\n       <use xlink:href=\"#DejaVuSans-50\"/>\n       <use x=\"63.623047\" xlink:href=\"#DejaVuSans-48\"/>\n       <use x=\"127.246094\" xlink:href=\"#DejaVuSans-48\"/>\n      </g>\n     </g>\n    </g>\n   </g>\n   <g id=\"matplotlib.axis_10\">\n    <g id=\"ytick_13\">\n     <g id=\"line2d_28\">\n      <g>\n       <use style=\"stroke:#000000;stroke-width:0.8;\" x=\"492.441786\" xlink:href=\"#m0fa5a2180a\" y=\"22.531645\"/>\n      </g>\n     </g>\n     <g id=\"text_32\">\n      <!-- 0 -->\n      <g transform=\"translate(479.079286 26.330864)scale(0.1 -0.1)\">\n       <use xlink:href=\"#DejaVuSans-48\"/>\n      </g>\n     </g>\n    </g>\n    <g id=\"ytick_14\">\n     <g id=\"line2d_29\">\n      <g>\n       <use style=\"stroke:#000000;stroke-width:0.8;\" x=\"492.441786\" xlink:href=\"#m0fa5a2180a\" y=\"65.235727\"/>\n      </g>\n     </g>\n     <g id=\"text_33\">\n      <!-- 100 -->\n      <g transform=\"translate(466.354286 69.034946)scale(0.1 -0.1)\">\n       <use xlink:href=\"#DejaVuSans-49\"/>\n       <use x=\"63.623047\" xlink:href=\"#DejaVuSans-48\"/>\n       <use x=\"127.246094\" xlink:href=\"#DejaVuSans-48\"/>\n      </g>\n     </g>\n    </g>\n    <g id=\"ytick_15\">\n     <g id=\"line2d_30\">\n      <g>\n       <use style=\"stroke:#000000;stroke-width:0.8;\" x=\"492.441786\" xlink:href=\"#m0fa5a2180a\" y=\"107.939809\"/>\n      </g>\n     </g>\n     <g id=\"text_34\">\n      <!-- 200 -->\n      <g transform=\"translate(466.354286 111.739027)scale(0.1 -0.1)\">\n       <use xlink:href=\"#DejaVuSans-50\"/>\n       <use x=\"63.623047\" xlink:href=\"#DejaVuSans-48\"/>\n       <use x=\"127.246094\" xlink:href=\"#DejaVuSans-48\"/>\n      </g>\n     </g>\n    </g>\n   </g>\n   <g id=\"patch_23\">\n    <path d=\"M 492.441786 117.975268 \nL 492.441786 22.318125 \n\" style=\"fill:none;stroke:#000000;stroke-linecap:square;stroke-linejoin:miter;stroke-width:0.8;\"/>\n   </g>\n   <g id=\"patch_24\">\n    <path d=\"M 588.098929 117.975268 \nL 588.098929 22.318125 \n\" style=\"fill:none;stroke:#000000;stroke-linecap:square;stroke-linejoin:miter;stroke-width:0.8;\"/>\n   </g>\n   <g id=\"patch_25\">\n    <path d=\"M 492.441786 117.975268 \nL 588.098929 117.975268 \n\" style=\"fill:none;stroke:#000000;stroke-linecap:square;stroke-linejoin:miter;stroke-width:0.8;\"/>\n   </g>\n   <g id=\"patch_26\">\n    <path d=\"M 492.441786 22.318125 \nL 588.098929 22.318125 \n\" style=\"fill:none;stroke:#000000;stroke-linecap:square;stroke-linejoin:miter;stroke-width:0.8;\"/>\n   </g>\n   <g id=\"text_35\">\n    <!-- [0. 1. 0.] -->\n    <g transform=\"translate(514.601607 16.318125)scale(0.12 -0.12)\">\n     <use xlink:href=\"#DejaVuSans-91\"/>\n     <use x=\"39.013672\" xlink:href=\"#DejaVuSans-48\"/>\n     <use x=\"102.636719\" xlink:href=\"#DejaVuSans-46\"/>\n     <use x=\"134.423828\" xlink:href=\"#DejaVuSans-32\"/>\n     <use x=\"166.210938\" xlink:href=\"#DejaVuSans-49\"/>\n     <use x=\"229.833984\" xlink:href=\"#DejaVuSans-46\"/>\n     <use x=\"261.621094\" xlink:href=\"#DejaVuSans-32\"/>\n     <use x=\"293.408203\" xlink:href=\"#DejaVuSans-48\"/>\n     <use x=\"357.03125\" xlink:href=\"#DejaVuSans-46\"/>\n     <use x=\"388.818359\" xlink:href=\"#DejaVuSans-93\"/>\n    </g>\n   </g>\n  </g>\n  <g id=\"axes_6\">\n   <g id=\"patch_27\">\n    <path d=\"M 607.230357 117.975268 \nL 702.8875 117.975268 \nL 702.8875 22.318125 \nL 607.230357 22.318125 \nz\n\" style=\"fill:#ffffff;\"/>\n   </g>\n   <g clip-path=\"url(#pfd0e8afdd2)\">\n    <image height=\"96\" id=\"image3c727c4e3a\" transform=\"scale(1 -1)translate(0 -96)\" width=\"96\" x=\"607.230357\" xlink:href=\"data:image/png;base64,\niVBORw0KGgoAAAANSUhEUgAAAGAAAABgCAYAAADimHc4AAAABHNCSVQICAgIfAhkiAAAARpJREFUeJzt28ENwjAQAMFLfum/OUpIDUgQakA8Rg47FZy1tuTPbdd1XRNm1wP8uwJgBcAKgBUAKwBWAKwAWAGwAmAFwAqAFQArAFYArABYAbACYAXACoAVACsAVgCsAFgBsAJgBcAKgBUAKwBWAKwAWAGwAmAFwAqA3SzAa2bW2jm8WYDHzLz1EF/ZWlO1bvYC1lMArADY2gHOc+b51FP8ZO0AxzGzr32EfkHY2tfnBgqAFQArAFYArABYAbACYAXACoAVACsAVgCsAFgBsAJgBcAKgBUAKwBWAKwAWAGwAmAFwAqAFQArAFYArABYAbACYAXACoAVACsAVgCsAFgBsAJgBcAKgBUAKwBWAKwAWAGwAmAFwAqAfQDaOhRevXRiUQAAAABJRU5ErkJggg==\" y=\"-21.975268\"/>\n   </g>\n   <g id=\"matplotlib.axis_11\">\n    <g id=\"xtick_16\">\n     <g id=\"line2d_31\">\n      <g>\n       <use style=\"stroke:#000000;stroke-width:0.8;\" x=\"607.443878\" xlink:href=\"#m815a31c3ab\" y=\"117.975268\"/>\n      </g>\n     </g>\n     <g id=\"text_36\">\n      <!-- 0 -->\n      <g transform=\"translate(604.262628 132.573705)scale(0.1 -0.1)\">\n       <use xlink:href=\"#DejaVuSans-48\"/>\n      </g>\n     </g>\n    </g>\n    <g id=\"xtick_17\">\n     <g id=\"line2d_32\">\n      <g>\n       <use style=\"stroke:#000000;stroke-width:0.8;\" x=\"650.147959\" xlink:href=\"#m815a31c3ab\" y=\"117.975268\"/>\n      </g>\n     </g>\n     <g id=\"text_37\">\n      <!-- 100 -->\n      <g transform=\"translate(640.604209 132.573705)scale(0.1 -0.1)\">\n       <use xlink:href=\"#DejaVuSans-49\"/>\n       <use x=\"63.623047\" xlink:href=\"#DejaVuSans-48\"/>\n       <use x=\"127.246094\" xlink:href=\"#DejaVuSans-48\"/>\n      </g>\n     </g>\n    </g>\n    <g id=\"xtick_18\">\n     <g id=\"line2d_33\">\n      <g>\n       <use style=\"stroke:#000000;stroke-width:0.8;\" x=\"692.852041\" xlink:href=\"#m815a31c3ab\" y=\"117.975268\"/>\n      </g>\n     </g>\n     <g id=\"text_38\">\n      <!-- 200 -->\n      <g transform=\"translate(683.308291 132.573705)scale(0.1 -0.1)\">\n       <use xlink:href=\"#DejaVuSans-50\"/>\n       <use x=\"63.623047\" xlink:href=\"#DejaVuSans-48\"/>\n       <use x=\"127.246094\" xlink:href=\"#DejaVuSans-48\"/>\n      </g>\n     </g>\n    </g>\n   </g>\n   <g id=\"matplotlib.axis_12\">\n    <g id=\"ytick_16\">\n     <g id=\"line2d_34\">\n      <g>\n       <use style=\"stroke:#000000;stroke-width:0.8;\" x=\"607.230357\" xlink:href=\"#m0fa5a2180a\" y=\"22.531645\"/>\n      </g>\n     </g>\n     <g id=\"text_39\">\n      <!-- 0 -->\n      <g transform=\"translate(593.867857 26.330864)scale(0.1 -0.1)\">\n       <use xlink:href=\"#DejaVuSans-48\"/>\n      </g>\n     </g>\n    </g>\n    <g id=\"ytick_17\">\n     <g id=\"line2d_35\">\n      <g>\n       <use style=\"stroke:#000000;stroke-width:0.8;\" x=\"607.230357\" xlink:href=\"#m0fa5a2180a\" y=\"65.235727\"/>\n      </g>\n     </g>\n     <g id=\"text_40\">\n      <!-- 100 -->\n      <g transform=\"translate(581.142857 69.034946)scale(0.1 -0.1)\">\n       <use xlink:href=\"#DejaVuSans-49\"/>\n       <use x=\"63.623047\" xlink:href=\"#DejaVuSans-48\"/>\n       <use x=\"127.246094\" xlink:href=\"#DejaVuSans-48\"/>\n      </g>\n     </g>\n    </g>\n    <g id=\"ytick_18\">\n     <g id=\"line2d_36\">\n      <g>\n       <use style=\"stroke:#000000;stroke-width:0.8;\" x=\"607.230357\" xlink:href=\"#m0fa5a2180a\" y=\"107.939809\"/>\n      </g>\n     </g>\n     <g id=\"text_41\">\n      <!-- 200 -->\n      <g transform=\"translate(581.142857 111.739027)scale(0.1 -0.1)\">\n       <use xlink:href=\"#DejaVuSans-50\"/>\n       <use x=\"63.623047\" xlink:href=\"#DejaVuSans-48\"/>\n       <use x=\"127.246094\" xlink:href=\"#DejaVuSans-48\"/>\n      </g>\n     </g>\n    </g>\n   </g>\n   <g id=\"patch_28\">\n    <path d=\"M 607.230357 117.975268 \nL 607.230357 22.318125 \n\" style=\"fill:none;stroke:#000000;stroke-linecap:square;stroke-linejoin:miter;stroke-width:0.8;\"/>\n   </g>\n   <g id=\"patch_29\">\n    <path d=\"M 702.8875 117.975268 \nL 702.8875 22.318125 \n\" style=\"fill:none;stroke:#000000;stroke-linecap:square;stroke-linejoin:miter;stroke-width:0.8;\"/>\n   </g>\n   <g id=\"patch_30\">\n    <path d=\"M 607.230357 117.975268 \nL 702.8875 117.975268 \n\" style=\"fill:none;stroke:#000000;stroke-linecap:square;stroke-linejoin:miter;stroke-width:0.8;\"/>\n   </g>\n   <g id=\"patch_31\">\n    <path d=\"M 607.230357 22.318125 \nL 702.8875 22.318125 \n\" style=\"fill:none;stroke:#000000;stroke-linecap:square;stroke-linejoin:miter;stroke-width:0.8;\"/>\n   </g>\n   <g id=\"text_42\">\n    <!-- [0. 0. 1.] -->\n    <g transform=\"translate(629.390179 16.318125)scale(0.12 -0.12)\">\n     <use xlink:href=\"#DejaVuSans-91\"/>\n     <use x=\"39.013672\" xlink:href=\"#DejaVuSans-48\"/>\n     <use x=\"102.636719\" xlink:href=\"#DejaVuSans-46\"/>\n     <use x=\"134.423828\" xlink:href=\"#DejaVuSans-32\"/>\n     <use x=\"166.210938\" xlink:href=\"#DejaVuSans-48\"/>\n     <use x=\"229.833984\" xlink:href=\"#DejaVuSans-46\"/>\n     <use x=\"261.621094\" xlink:href=\"#DejaVuSans-32\"/>\n     <use x=\"293.408203\" xlink:href=\"#DejaVuSans-49\"/>\n     <use x=\"357.03125\" xlink:href=\"#DejaVuSans-46\"/>\n     <use x=\"388.818359\" xlink:href=\"#DejaVuSans-93\"/>\n    </g>\n   </g>\n  </g>\n </g>\n <defs>\n  <clipPath id=\"p5459eebaaa\">\n   <rect height=\"95.657143\" width=\"95.657143\" x=\"33.2875\" y=\"22.318125\"/>\n  </clipPath>\n  <clipPath id=\"pe6e5637b44\">\n   <rect height=\"95.657143\" width=\"95.657143\" x=\"148.076071\" y=\"22.318125\"/>\n  </clipPath>\n  <clipPath id=\"p65e23d4235\">\n   <rect height=\"95.657143\" width=\"95.657143\" x=\"262.864643\" y=\"22.318125\"/>\n  </clipPath>\n  <clipPath id=\"p1fbacb9512\">\n   <rect height=\"95.657143\" width=\"95.657143\" x=\"377.653214\" y=\"22.318125\"/>\n  </clipPath>\n  <clipPath id=\"p81a900c1e0\">\n   <rect height=\"95.657143\" width=\"95.657143\" x=\"492.441786\" y=\"22.318125\"/>\n  </clipPath>\n  <clipPath id=\"pfd0e8afdd2\">\n   <rect height=\"95.657143\" width=\"95.657143\" x=\"607.230357\" y=\"22.318125\"/>\n  </clipPath>\n </defs>\n</svg>\n",
      "image/png": "[encoded data removed]"
     },
     "metadata": {
      "needs_background": "light"
     }
    }
   ],
   "source": [
    "fig, ax = plt.subplots(1, len(labels), figsize = (12, 16))\n",
    "\n",
    "for i in range(len(labels)):\n",
    "    ax[i].imshow(imgs[i])\n",
    "    ax[i].set_title(labels[i])\n",
    "# # plots(imgs, titles=labels)\n",
    "# imgs[0].shape"
   ]
  },
  {
   "cell_type": "code",
   "execution_count": 121,
   "metadata": {},
   "outputs": [],
   "source": [
    "vgg16_model = tf.keras.applications.vgg16.VGG16()"
   ]
  },
  {
   "cell_type": "code",
   "execution_count": 122,
   "metadata": {},
   "outputs": [],
   "source": [
    "Dir_Class_Model = Sequential()\n",
    "for layer in vgg16_model.layers[:-1]:\n",
    "    Dir_Class_Model.add(layer)"
   ]
  },
  {
   "cell_type": "code",
   "execution_count": 123,
   "metadata": {},
   "outputs": [],
   "source": [
    "for layer in Dir_Class_Model.layers[:-1]:\n",
    "    layer.trainable = False"
   ]
  },
  {
   "cell_type": "code",
   "execution_count": 124,
   "metadata": {},
   "outputs": [],
   "source": [
    "num_classes = 3\n",
    "Dir_Class_Model.add(Dense(num_classes, activation='softmax'))"
   ]
  },
  {
   "cell_type": "code",
   "execution_count": 125,
   "metadata": {},
   "outputs": [
    {
     "output_type": "stream",
     "name": "stdout",
     "text": [
      "Model: \"sequential_1\"\n_________________________________________________________________\nLayer (type)                 Output Shape              Param #   \n=================================================================\nblock1_conv1 (Conv2D)        (None, 224, 224, 64)      1792      \n_________________________________________________________________\nblock1_conv2 (Conv2D)        (None, 224, 224, 64)      36928     \n_________________________________________________________________\nblock1_pool (MaxPooling2D)   (None, 112, 112, 64)      0         \n_________________________________________________________________\nblock2_conv1 (Conv2D)        (None, 112, 112, 128)     73856     \n_________________________________________________________________\nblock2_conv2 (Conv2D)        (None, 112, 112, 128)     147584    \n_________________________________________________________________\nblock2_pool (MaxPooling2D)   (None, 56, 56, 128)       0         \n_________________________________________________________________\nblock3_conv1 (Conv2D)        (None, 56, 56, 256)       295168    \n_________________________________________________________________\nblock3_conv2 (Conv2D)        (None, 56, 56, 256)       590080    \n_________________________________________________________________\nblock3_conv3 (Conv2D)        (None, 56, 56, 256)       590080    \n_________________________________________________________________\nblock3_pool (MaxPooling2D)   (None, 28, 28, 256)       0         \n_________________________________________________________________\nblock4_conv1 (Conv2D)        (None, 28, 28, 512)       1180160   \n_________________________________________________________________\nblock4_conv2 (Conv2D)        (None, 28, 28, 512)       2359808   \n_________________________________________________________________\nblock4_conv3 (Conv2D)        (None, 28, 28, 512)       2359808   \n_________________________________________________________________\nblock4_pool (MaxPooling2D)   (None, 14, 14, 512)       0         \n_________________________________________________________________\nblock5_conv1 (Conv2D)        (None, 14, 14, 512)       2359808   \n_________________________________________________________________\nblock5_conv2 (Conv2D)        (None, 14, 14, 512)       2359808   \n_________________________________________________________________\nblock5_conv3 (Conv2D)        (None, 14, 14, 512)       2359808   \n_________________________________________________________________\nblock5_pool (MaxPooling2D)   (None, 7, 7, 512)         0         \n_________________________________________________________________\nflatten (Flatten)            (None, 25088)             0         \n_________________________________________________________________\nfc1 (Dense)                  (None, 4096)              102764544 \n_________________________________________________________________\nfc2 (Dense)                  (None, 4096)              16781312  \n_________________________________________________________________\ndense_2 (Dense)              (None, 3)                 12291     \n=================================================================\nTotal params: 134,272,835\nTrainable params: 16,793,603\nNon-trainable params: 117,479,232\n_________________________________________________________________\n"
     ]
    }
   ],
   "source": [
    "Dir_Class_Model.summary()"
   ]
  },
  {
   "cell_type": "code",
   "execution_count": 126,
   "metadata": {},
   "outputs": [],
   "source": [
    "opt = tf.keras.optimizers.SGD(learning_rate=0.001)"
   ]
  },
  {
   "cell_type": "code",
   "execution_count": 127,
   "metadata": {},
   "outputs": [],
   "source": [
    "Dir_Class_Model.compile(\n",
    "    optimizer=opt,\n",
    "    loss='categorical_crossentropy',\n",
    "    metrics=['accuracy']\n",
    ")"
   ]
  },
  {
   "cell_type": "code",
   "execution_count": 81,
   "metadata": {},
   "outputs": [
    {
     "output_type": "stream",
     "name": "stdout",
     "text": [
      "Epoch 1/5\n",
      "18/18 [==============================] - 191s 11s/step - loss: 0.0000e+00 - accuracy: 1.0000 - val_loss: 0.0000e+00 - val_accuracy: 1.0000\n",
      "Epoch 2/5\n",
      "18/18 [==============================] - 252s 14s/step - loss: 0.0000e+00 - accuracy: 1.0000 - val_loss: 0.0000e+00 - val_accuracy: 1.0000\n",
      "Epoch 3/5\n",
      "18/18 [==============================] - 271s 15s/step - loss: 0.0000e+00 - accuracy: 1.0000 - val_loss: 0.0000e+00 - val_accuracy: 1.0000\n",
      "Epoch 4/5\n",
      "18/18 [==============================] - 200s 11s/step - loss: 0.0000e+00 - accuracy: 1.0000 - val_loss: 0.0000e+00 - val_accuracy: 1.0000\n",
      "Epoch 5/5\n",
      "18/18 [==============================] - 179s 10s/step - loss: 0.0000e+00 - accuracy: 1.0000 - val_loss: 0.0000e+00 - val_accuracy: 1.0000\n"
     ]
    },
    {
     "output_type": "execute_result",
     "data": {
      "text/plain": [
       "<tensorflow.python.keras.callbacks.History at 0x168712550>"
      ]
     },
     "metadata": {},
     "execution_count": 81
    }
   ],
   "source": [
    "Dir_Class_Model.fit(train_batches, validation_data=valid_batches, epochs=5, verbose=1)"
   ]
  },
  {
   "cell_type": "code",
   "execution_count": 96,
   "metadata": {},
   "outputs": [
    {
     "output_type": "execute_result",
     "data": {
      "text/plain": [
       "array([[1.],\n",
       "       [1.],\n",
       "       [1.],\n",
       "       [1.],\n",
       "       [1.],\n",
       "       [1.]], dtype=float32)"
      ]
     },
     "metadata": {},
     "execution_count": 96
    }
   ],
   "source": [
    "test_imgs, test_labels = next(test_batches)\n",
    "Dir_Class_Model.predict(test_imgs)"
   ]
  },
  {
   "cell_type": "code",
   "execution_count": null,
   "metadata": {},
   "outputs": [],
   "source": []
  }
 ]
}